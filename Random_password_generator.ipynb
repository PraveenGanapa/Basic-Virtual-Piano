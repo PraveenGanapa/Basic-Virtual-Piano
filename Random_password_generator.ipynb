{
  "nbformat": 4,
  "nbformat_minor": 0,
  "metadata": {
    "colab": {
      "provenance": [],
      "mount_file_id": "1FYoJfk5wao2mbIOo27GDOPd4Jz2zIJem",
      "authorship_tag": "ABX9TyNHDBv4lODzV/+CoRjqwwhG",
      "include_colab_link": true
    },
    "kernelspec": {
      "name": "python3",
      "display_name": "Python 3"
    },
    "language_info": {
      "name": "python"
    }
  },
  "cells": [
    {
      "cell_type": "markdown",
      "metadata": {
        "id": "view-in-github",
        "colab_type": "text"
      },
      "source": [
        "<a href=\"https://colab.research.google.com/github/PraveenGanapa/Basic-Virtual-Piano/blob/master/Random_password_generator.ipynb\" target=\"_parent\"><img src=\"https://colab.research.google.com/assets/colab-badge.svg\" alt=\"Open In Colab\"/></a>"
      ]
    },
    {
      "cell_type": "code",
      "execution_count": null,
      "metadata": {
        "id": "a2Cv93chGITQ"
      },
      "outputs": [],
      "source": [
        "import string\n",
        "import random"
      ]
    },
    {
      "cell_type": "code",
      "source": [
        "if __name__ == \"__main__\":\n",
        "    s1 = string.ascii_lowercase\n",
        "    s2 = string.ascii_uppercase\n",
        "    s3 = string.digits\n",
        "    s4 = string.punctuation\n",
        "    plen = int(input(\"Enter password length\\n\"))\n",
        "    s = []\n",
        "    s.extend(list(s1))\n",
        "    s.extend(list(s2))\n",
        "    s.extend(list(s3))\n",
        "    s.extend(list(s4))\n",
        "\n",
        "    print(\"Your password is: \")\n",
        "    print(\"\".join(random.sample(s, plen)))\n"
      ],
      "metadata": {
        "colab": {
          "base_uri": "https://localhost:8080/"
        },
        "id": "QOyn8r6CHq6a",
        "outputId": "c4aa308d-adf3-4327-860a-a00391b92814"
      },
      "execution_count": null,
      "outputs": [
        {
          "output_type": "stream",
          "name": "stdout",
          "text": [
            "Enter password length\n",
            "8\n",
            "Your password is: \n",
            "*!F6+G2y\n"
          ]
        }
      ]
    }
  ]
}